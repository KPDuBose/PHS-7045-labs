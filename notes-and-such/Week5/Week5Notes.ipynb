{
  "cells": [
    {
      "cell_type": "raw",
      "metadata": {},
      "source": [
        "---\n",
        "title: \"Week 5 Notes\"\n",
        "subtitle: \"Rcpp package\"\n",
        "author: \"Kline DuBose\"\n",
        "format: \n",
        "  gfm: default\n",
        "editor_options: \n",
        "  chunk_output_type: console\n",
        "---"
      ],
      "id": "02bd6b47"
    },
    {
      "cell_type": "markdown",
      "metadata": {},
      "source": [
        "# R is great, but...\n",
        "There are some problems with like for loops and othe stuff that can slow down even a vectorized R program. `lapply` is faster, but it is a faster for-loop that allocates the necessary memory before hand. (Python is not faster in general than R -George)\n",
        "\n",
        "It is better to get proficient in one language than use a bunch of them. \n",
        "\n",
        "rcpp11 is another similar package that could be worth looking into.\n",
        "\n",
        "## Example 1: Looping over a vector\n",
        "\n",
        "```{Rcpp}\n",
        "#| cache: true\n",
        "#| label: \"Rcpp-add1, the hard way\"\n",
        "#| eval: false\n",
        "\n",
        "#include<Rcpp.h>\n",
        "using namespace Rcpp;\n",
        "// [[Rcpp::export]]\n",
        "NumericVector add1(NumericVector x) {\n",
        "  NumericVecotr ans(x.size());\n",
        "  for (int i = 0; i < x.size(); ++i)\n",
        "    ans[i] = x[i] 1;\n",
        "  return ans;\n",
        "}\n",
        "\n",
        "add1(1:10)\n",
        "\n",
        "\n",
        "```\n",
        "\n",
        "\n",
        "1) Unlike R, c++ starts loops at 0, like python and other programming languages.\n",
        "\n",
        "## Example 1: Version 2\n",
        "\n",
        "```{Rcpp}\n",
        "#| label: \"Sugar\"\n",
        "\n",
        "#include<Rcpp.h>\n",
        "using namespace Rcpp;\n",
        "// [[Rcpp::export]]\n",
        "NumericVector add1Cpp(NumericVector x) {\n",
        "  return x + 1;\n",
        "}\n",
        "\n",
        "add1Cpp(1:10)\n",
        "\n",
        "\n",
        "```"
      ],
      "id": "2d36673f"
    }
  ],
  "metadata": {
    "kernelspec": {
      "display_name": "Python 3",
      "language": "python",
      "name": "python3"
    }
  },
  "nbformat": 4,
  "nbformat_minor": 5
}